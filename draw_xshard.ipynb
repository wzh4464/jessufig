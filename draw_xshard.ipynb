{
 "cells": [
  {
   "cell_type": "code",
   "execution_count": 3,
   "metadata": {},
   "outputs": [],
   "source": [
    "import matplotlib.pyplot as plt\n",
    "import numpy as np\n",
    "from matplotlib.pyplot import MultipleLocator\n",
    "import gzip\n",
    "import os\n",
    "import time\n",
    "import re\n",
    "from curses.ascii import isdigit\n",
    "plt.rcParams.update({\n",
    "    \"text.usetex\": True,\n",
    "    # \"font.family\": \"Helvetica\"\n",
    "})\n",
    "def plot_bar(x,y,bar_width=2,pic_name=1,save=False,xlabel=\"TX rate / (TXs/Sec)\",ylabel=\"Throughput (tps)\",text_location=50,ylim=2800):\n",
    "    fig, leftaxis = plt.subplots(figsize=(6, 4))\n",
    "    \n",
    "    leftaxis.bar(x, y, color='#4eb3d3', label='Throughput',width=bar_width,zorder=2)\n",
    "    # bar的zorder取2\n",
    "    for i, val in enumerate(y):\n",
    "        leftaxis.text(x[i], val+text_location, val, horizontalalignment='center', verticalalignment='bottom', fontdict={'fontweight':500, 'size':9})\n",
    "    leftaxis.grid(axis='y',linestyle='--',zorder=0)\n",
    "    # grid的zorder取0\n",
    "    x_major_locator=MultipleLocator(bar_width*2)\n",
    "    leftaxis.xaxis.set_major_locator(x_major_locator)\n",
    "    leftaxis.set_xlabel(xlabel)\n",
    "    leftaxis.set_ylabel(ylabel)\n",
    "    leftaxis.set_ylim(0, ylim)\n",
    "    if save:\n",
    "        plt.savefig(\"pic/\"+time.strftime(\"%Y-%m-%d %H:%M:%S\", time.localtime())+\"_Figure_\"+str(pic_name)+\".png\", dpi=600, bbox_inches='tight')\n",
    "    plt.show()\n",
    "    \n",
    "def readfile(src=\"source/graph.txt\"):\n",
    "    input = list()\n",
    "    with open(src, \"r\") as f:\n",
    "        readin=f.read().split(\"\\n\\n\")\n",
    "        temp_array = np.array([])\n",
    "        for string in readin:\n",
    "            if string[0].isdigit():\n",
    "                blocks = string.split(\"\\n\")\n",
    "                for block_ in blocks:\n",
    "                    rowarray = np.fromstring(block_,dtype=float,sep=' ')\n",
    "                    input.append(rowarray)\n",
    "    for i,s in enumerate(input):\n",
    "        input[i] = np.around(s,2)\n",
    "    return input\n",
    "    \n",
    "np.set_printoptions(suppress=True)\n",
    "\n",
    "def plot_beta(data,bar_width=2,pic_name=1,save=False,xlabel=\"TX rate / (TXs/Sec)\",ylabel=\"Throughput (tps)\",text_location=50,ylim=2800,labellist=['bsize=100','bsize=150','bsize=80','bsize=50']):\n",
    "    colorlist = ['orange','red','grey','black','blue','green']\n",
    "    markerlist = ['o','^','x','s']\n",
    "    x = data[0,:]\n",
    "    ynum = np.size(data,0)-1\n",
    "    y = data[1:ynum+1,:]\n",
    "    fig, leftaxis = plt.subplots(figsize=(6, 4))\n",
    "    for i in range(ynum):\n",
    "        leftaxis.plot(x, y[i,:], color=colorlist[i], label=labellist[i],zorder=2,marker=markerlist[i])\n",
    "        for j, val in enumerate(y[i,:]):\n",
    "            if i:\n",
    "                leftaxis.text(x[j], val+text_location, val, horizontalalignment='center', verticalalignment='bottom', fontdict={'fontweight':500, 'size':9})\n",
    "            else:\n",
    "                leftaxis.text(x[j], val-3*text_location, val, horizontalalignment='center', verticalalignment='bottom', fontdict={'fontweight':500, 'size':9})\n",
    "\n",
    "    leftaxis.grid(axis='y',linestyle='--',zorder=0)\n",
    "    leftaxis.grid(axis='x',linestyle='--',zorder=0)\n",
    "    \n",
    "    leftaxis.set_xlabel(xlabel)\n",
    "    leftaxis.set_ylabel(ylabel)\n",
    "    leftaxis.set_ylim(0, ylim)\n",
    "    leftaxis.set_xticks(x, x.astype(int))\n",
    "    print(x)\n",
    "    leftaxis.legend(loc=0)\n",
    "    if save:\n",
    "        plt.savefig(\"pic/\"+time.strftime(\"%Y-%m-%d %H:%M:%S\", time.localtime())+\"_Figure_\"+str(pic_name)+\".png\", dpi=600, bbox_inches='tight')\n",
    "    plt.show()\n"
   ]
  },
  {
   "cell_type": "code",
   "execution_count": 22,
   "metadata": {},
   "outputs": [
    {
     "data": {
      "image/png": "[encoded data removed]",
      "text/plain": [
       "<Figure size 432x288 with 1 Axes>"
      ]
     },
     "metadata": {
      "needs_background": "light"
     },
     "output_type": "display_data"
    }
   ],
   "source": [
    "def plot_beta(data,bar_width=2,pic_name=1,save=False,xlabel=\"TX rate / (TXs/Sec)\",ylabel=\"Throughput (tps)\",text_location=50,ylim=2800,labellist=['bsize=100','bsize=150','bsize=80','bsize=50'],ytick_k=False,xlim=1000000,xscale=5):\n",
    "    colorlist = ['orange','red','grey','black','blue','green']\n",
    "    markerlist = ['o','^','x','s']\n",
    "    x = data[0,:]\n",
    "    ynum = np.size(data,0)-1\n",
    "    y = data[1:ynum+1,:]\n",
    "    fig, leftaxis = plt.subplots(figsize=(6, 4))\n",
    "    for i in range(ynum):\n",
    "        leftaxis.plot(x, y[i,:], color=colorlist[i], label=labellist[i],zorder=2,marker=markerlist[i])\n",
    "        for j, val in enumerate(y[i,:]):\n",
    "            if i:\n",
    "                leftaxis.text(x[j], val+text_location, val, horizontalalignment='center', verticalalignment='bottom', fontdict={'fontweight':500, 'size':9})\n",
    "            else:\n",
    "                leftaxis.text(x[j], val-3*text_location, val, horizontalalignment='center', verticalalignment='bottom', fontdict={'fontweight':500, 'size':9})\n",
    "\n",
    "    leftaxis.grid(axis='y',linestyle='--',zorder=0)\n",
    "    leftaxis.grid(axis='x',linestyle='--',zorder=0)\n",
    "    \n",
    "    leftaxis.set_xlabel(xlabel)\n",
    "    leftaxis.set_ylabel(ylabel)\n",
    "    leftaxis.set_ylim(0, ylim)\n",
    "    leftaxis.set_xticks(x, x.astype(int))\n",
    "    # print(x)\n",
    "    leftaxis.legend(loc=0)\n",
    "    if ytick_k:\n",
    "        plt.yticks(np.linspace(0,xlim,xscale+1),np.linspace(0,10,xscale+1))\n",
    "        plt.xticks(np.linspace(8,64,8))\n",
    "        leftaxis.set_xlim(4, 68)\n",
    "    if save:\n",
    "        plt.savefig(\"pic/\"+time.strftime(\"%Y-%m-%d %H:%M:%S\", time.localtime())+\"_Figure_\"+str(pic_name)+\".png\", dpi=600, bbox_inches='tight')\n",
    "    plt.show()\n",
    "\n",
    "data = np.genfromtxt('cr-tx.csv', delimiter=',')\n",
    "\n",
    "data = np.delete(data,0,axis=0)\n",
    "\n",
    "data = np.transpose(data)\n",
    "\n",
    "data = data.astype(int)\n",
    "\n",
    "x = data[0,:]\n",
    "\n",
    "plot_beta(data=data,bar_width=(x[1]-x[0])/2,pic_name=11,save=True,xlabel=\"Number of Shards\", ylabel=r'Num of Cross-shard TXs $(\\times 10^5)$',text_location=30000,xlim=1000000,ylim=1100000,labellist=['random','X-shard','cross-shard tx'],ytick_k=True)"
   ]
  },
  {
   "cell_type": "code",
   "execution_count": 4,
   "metadata": {},
   "outputs": [
    {
     "data": {
      "text/plain": [
       "array([      0.,  250000.,  500000.,  750000., 1000000.])"
      ]
     },
     "execution_count": 4,
     "metadata": {},
     "output_type": "execute_result"
    }
   ],
   "source": [
    "np.linspace(0,1000000,5)"
   ]
  }
 ],
 "metadata": {
  "kernelspec": {
   "display_name": "Python 3.10.0 ('graph')",
   "language": "python",
   "name": "python3"
  },
  "language_info": {
   "codemirror_mode": {
    "name": "ipython",
    "version": 3
   },
   "file_extension": ".py",
   "mimetype": "text/x-python",
   "name": "python",
   "nbconvert_exporter": "python",
   "pygments_lexer": "ipython3",
   "version": "3.10.0"
  },
  "orig_nbformat": 4,
  "vscode": {
   "interpreter": {
    "hash": "c4dd7c21c6e0bc1f7bb63c21397f90bf337a0c86b6ce92f5f6aaa8a0dc99afd3"
   }
  }
 },
 "nbformat": 4,
 "nbformat_minor": 2
}
